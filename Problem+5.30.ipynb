{
 "cells": [
  {
   "cell_type": "markdown",
   "metadata": {},
   "source": [
    "# Classical Mechanics Chapter 5 Problem 30\n",
    "Cam Kimber"
   ]
  },
  {
   "cell_type": "code",
   "execution_count": 1,
   "metadata": {},
   "outputs": [
    {
     "name": "stdout",
     "output_type": "stream",
     "text": [
      "Populating the interactive namespace from numpy and matplotlib\n"
     ]
    }
   ],
   "source": [
    "%pylab inline"
   ]
  },
  {
   "cell_type": "markdown",
   "metadata": {},
   "source": [
    "Question 5.30 prompts the reader to make plots after ascertaining the constants of equation. Here I investigate the nature of these plots. The equation is given by\n",
    "\n",
    "$$x(t) = c_1 e^{-\\left(\\beta+\\sqrt{\\beta^2-\\omega_0^2}\\right)t} + c_2 e^{-\\left(\\beta-\\sqrt{\\beta^2-\\omega_0^2}\\right)t}$$\n",
    "\n",
    "While the derivations are given more fully in the handwritten portion of the homework, I have included the results here for clarity. The constants are of the form \n",
    "\n",
    "$$c_1 = x_0 + \\frac{v_0 + \\beta x_0 - \\sqrt{\\beta^2-\\omega_0^2}x_0}{2\\sqrt{\\beta^2-\\omega_0^2}}$$\n",
    "\n",
    "and \n",
    "\n",
    "$$c_2 = - \\frac{v_0 + \\beta x_0 - \\sqrt{\\beta^2-\\omega_0^2}x_0}{2\\sqrt{\\beta^2-\\omega_0^2}}$$\n",
    "\n",
    "The first graph is the case where\n",
    "\n",
    "$$x_0 = 0$$\n",
    "\n",
    "In this case, the eqation reduces to\n",
    "\n",
    "$$x(t) = \\frac{v_0}{2\\sqrt{\\beta^2-\\omega_0^2}}\\left(e^{-(\\beta+\\sqrt{\\beta^2-\\omega_0^2})t} +  e^{-(\\beta-\\sqrt{\\beta^2-\\omega_0^2})t}\\right)$$\n"
   ]
  },
  {
   "cell_type": "code",
   "execution_count": 26,
   "metadata": {},
   "outputs": [
    {
     "data": {
      "image/png": "[encoded data removed]",
      "text/plain": [
       "<matplotlib.figure.Figure at 0x23557eeeac8>"
      ]
     },
     "metadata": {},
     "output_type": "display_data"
    }
   ],
   "source": [
    "t = np.linspace(0,8,1000)\n",
    "B  = 1\n",
    "w  = 0.5\n",
    "v0 = 10\n",
    "w1 = sqrt(B**2 - w**2)\n",
    "exp1 = -B - w1\n",
    "exp2 = -B + w1\n",
    "plt.plot(t,v0*(e**(exp1*t)+e**(exp2*t))/2*w1);"
   ]
  },
  {
   "cell_type": "markdown",
   "metadata": {},
   "source": [
    "In the case where $v_0 = 0$, the constants are given as\n",
    "\n",
    "$$c_1 = x_0 \\left(1 + \\frac{\\beta - \\sqrt{\\beta^2 - \\omega_0^2}}{2\\sqrt{\\beta^2 - \\omega_0^2}} \\right)$$\n",
    "\n",
    "and \n",
    "\n",
    "$$c_2 = -x_0 \\left( \\frac{\\beta - \\sqrt{\\beta^2 - \\omega_0^2}}{2\\sqrt{\\beta^2-\\omega_0^2}}\\right)$$"
   ]
  },
  {
   "cell_type": "code",
   "execution_count": 33,
   "metadata": {},
   "outputs": [
    {
     "data": {
      "image/png": "[encoded data removed]",
      "text/plain": [
       "<matplotlib.figure.Figure at 0x23557fa4358>"
      ]
     },
     "metadata": {},
     "output_type": "display_data"
    }
   ],
   "source": [
    "t = np.linspace(0,8,1000)\n",
    "B  = 1\n",
    "w  = 0.5\n",
    "x0 = 10\n",
    "w1 = sqrt(B**2 - w**2)\n",
    "exp1 = (-B - w1) * t\n",
    "exp2 = (-B + w1) * t\n",
    "a = 1 + (B-sqrt(B**2-w**2))/(2*sqrt(B**2-w**2))\n",
    "b = (B-sqrt(B**2-w**2))/(2*sqrt(B**2-w**2))\n",
    "plt.plot(t,x0*(a*e**exp1 - b*e**exp2));"
   ]
  }
 ],
 "metadata": {
  "kernelspec": {
   "display_name": "Python 3",
   "language": "python",
   "name": "python3"
  },
  "language_info": {
   "codemirror_mode": {
    "name": "ipython",
    "version": 2
   },
   "file_extension": ".py",
   "mimetype": "text/x-python",
   "name": "python",
   "nbconvert_exporter": "python",
   "pygments_lexer": "ipython2",
   "version": "2.7.13"
  }
 },
 "nbformat": 4,
 "nbformat_minor": 2
}
