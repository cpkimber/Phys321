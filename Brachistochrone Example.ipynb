{
 "cells": [
  {
   "cell_type": "markdown",
   "metadata": {},
   "source": [
    "# Brachistochrone Example\n",
    "\n",
    "The time for an cart to slide on a frictionless track from point 1 to point 2 is\n",
    "$$time(1 \\rightarrow 2) = \\int^2_1{\\frac{ds}{v}}$$\n",
    "\n",
    "Where the velocity as a function of height is given by conservation of energy\n",
    "\n",
    "$$v =\\sqrt{2gy}$$\n",
    "\n",
    "So we will call y our independent variable, and make x a function of y. So arclength would be calculated \n",
    "\n",
    "$$ds = \\sqrt{dx^2 + dy^2} = \\sqrt{x'(y)^2 + 1}dy$$\n",
    "\n",
    "Where the prime represents the derivative of x with respect to y, ie. $x' = \\frac{dx}{dy}$\n",
    "So now, the time from point 1 to point 2 is\n",
    "\n",
    "$$time(1 \\rightarrow 2) = \\frac{1}{\\sqrt{2g}}\\int^{y_2}_0\\frac{\\sqrt{x'(y)^2+1}}{\\sqrt{y}}dy$$"
   ]
  },
  {
   "cell_type": "code",
   "execution_count": 47,
   "metadata": {},
   "outputs": [
    {
     "name": "stdout",
     "output_type": "stream",
     "text": [
      "Populating the interactive namespace from numpy and matplotlib\n"
     ]
    }
   ],
   "source": [
    "%pylab inline"
   ]
  },
  {
   "cell_type": "markdown",
   "metadata": {},
   "source": [
    "To show the cycloid nature of the plot, the linear array holds values of parameter $\\theta$ for a little longer than 1 period."
   ]
  },
  {
   "cell_type": "code",
   "execution_count": 38,
   "metadata": {},
   "outputs": [],
   "source": [
    "theta = linspace(0,2.5*pi)"
   ]
  },
  {
   "cell_type": "markdown",
   "metadata": {},
   "source": [
    "The solution to the Euler Lagrange Equation is a parametric equation in $\\theta$, given as follows\n",
    "$$y = a(1-\\cos\\theta) \\\\ $$\n",
    "$$x = a(\\theta-\\sin\\theta)$$"
   ]
  },
  {
   "cell_type": "code",
   "execution_count": 43,
   "metadata": {},
   "outputs": [
    {
     "data": {
      "image/png": "[encoded data removed]",
      "text/plain": [
       "<matplotlib.figure.Figure at 0x7f0712d38320>"
      ]
     },
     "metadata": {},
     "output_type": "display_data"
    }
   ],
   "source": [
    "fig =plt.plot(theta-sin(theta),1-cos(theta))     \n",
    "ylim(0,3)\n",
    "plt.gca().invert_yaxis()                    "
   ]
  }
 ],
 "metadata": {
  "kernelspec": {
   "display_name": "Python 3",
   "language": "python",
   "name": "python3"
  },
  "language_info": {
   "codemirror_mode": {
    "name": "ipython",
    "version": 3
   },
   "file_extension": ".py",
   "mimetype": "text/x-python",
   "name": "python",
   "nbconvert_exporter": "python",
   "pygments_lexer": "ipython3",
   "version": "3.6.2"
  }
 },
 "nbformat": 4,
 "nbformat_minor": 2
}
