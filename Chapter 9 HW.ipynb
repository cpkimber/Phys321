{
 "cells": [
  {
   "cell_type": "code",
   "execution_count": 3,
   "metadata": {},
   "outputs": [
    {
     "name": "stdout",
     "output_type": "stream",
     "text": [
      "Populating the interactive namespace from numpy and matplotlib\n"
     ]
    },
    {
     "name": "stderr",
     "output_type": "stream",
     "text": [
      "/home/cam/.local/lib/python3.6/site-packages/IPython/core/magics/pylab.py:160: UserWarning: pylab import has clobbered these variables: ['sin']\n",
      "`%matplotlib` prevents importing * from pylab and numpy\n",
      "  \"\\n`%matplotlib` prevents importing * from pylab and numpy\"\n"
     ]
    }
   ],
   "source": [
    "%pylab notebook\n",
    "from math import atan, sin"
   ]
  },
  {
   "cell_type": "markdown",
   "metadata": {},
   "source": [
    "$$m \\ddot{r} = F + F_{cf} + F_{cor} \\qquad m \\ddot{r} = mg_o + m(\\Omega \\times R) \\times\\Omega + 2mv \\times \\Omega\n",
    "\\qquad F_{cor} \\approx mv\\Omega \\qquad F_{cf} \\approx mr\\Omega^2$$\n",
    "\n",
    "$$\\Omega_{Earth} = 7.3 \\times 10^{-5} \\qquad L = I \\omega \\qquad I_{point mass} = mr^2$$\n",
    "\n",
    "$$\\begin{equation}\n",
    "  f(x)=\\begin{cases}\n",
    "    x = v_{x0}t + \\Omega(v_{y0}\\cos\\theta - v_{z0} \\sin\\theta)t^2 + \\frac{1}{3}\\Omega gt^3\\sin\\theta\\\\\n",
    "    y = v_{y0}t - \\Omega(v_{x0}\\cos \\theta)t^2 \\\\\n",
    "    z = v_{z0}t - \\frac{1}{2}gt^2 + \\Omega(v_{x0}\\sin\\theta)t^2\n",
    "  \\end{cases}\n",
    "\\end{equation}$$"
   ]
  },
  {
   "cell_type": "markdown",
   "metadata": {},
   "source": [
    "# 9.25"
   ]
  },
  {
   "cell_type": "code",
   "execution_count": 4,
   "metadata": {},
   "outputs": [
    {
     "name": "stdout",
     "output_type": "stream",
     "text": [
      "The pendulum is displaced 0.128 degrees\n"
     ]
    }
   ],
   "source": [
    "omega = 7.3E-5\n",
    "v     = 150\n",
    "fcor  = 2 * v * omega\n",
    "g     = 9.8\n",
    "tan   = fcor/g\n",
    "theta = degrees(atan(tan))\n",
    "print(\"The pendulum is displaced %1.3f degrees\" % theta)"
   ]
  },
  {
   "cell_type": "markdown",
   "metadata": {},
   "source": [
    "# 9.27\n",
    "\n",
    "Conservation of angular momentum $L = I\\omega$ where $I$ depends quadratically on radial distance means $\\omega$ increases as $r$ decreases."
   ]
  },
  {
   "cell_type": "markdown",
   "metadata": {},
   "source": [
    "# 9.29\n",
    "\n",
    "The derived/ given equation is\n",
    "$$(4\\Omega v_0^3 \\sin\\theta)/(3g^2)$$"
   ]
  },
  {
   "cell_type": "code",
   "execution_count": 8,
   "metadata": {},
   "outputs": [
    {
     "name": "stdout",
     "output_type": "stream",
     "text": [
      "x = 0.0649 m\n"
     ]
    }
   ],
   "source": [
    "g     = 9.8\n",
    "omega = 7.3E-5\n",
    "vz0   = 40\n",
    "dx    = (4 * omega * vz0**3)/(3*g**2)\n",
    "print(\"x = %1.4f m\" % dx)"
   ]
  },
  {
   "cell_type": "markdown",
   "metadata": {},
   "source": [
    "\n",
    "# Bug on a turntable"
   ]
  },
  {
   "cell_type": "code",
   "execution_count": 18,
   "metadata": {},
   "outputs": [
    {
     "name": "stdout",
     "output_type": "stream",
     "text": [
      "The record spins at 3.456 rad/sec, and the radius is 0.1524 m\n",
      "The bug would begin to slip due to centrifugal force at 0.1641 m\n"
     ]
    }
   ],
   "source": [
    "omega = 33 * 2 * pi / 60\n",
    "d_in  = 12 \n",
    "ft_co = 2.54 / 100 \n",
    "d     = d_in * ft_co\n",
    "mu    = 0.2\n",
    "r     = d/2\n",
    "slipr = g * mu / omega**2\n",
    "print(\"The record spins at %1.3f rad/sec, and the radius is %1.4f m\" % (omega, r))\n",
    "print(\"The bug would begin to slip due to centrifugal force at %1.4f m\" % slipr)"
   ]
  }
 ],
 "metadata": {
  "kernelspec": {
   "display_name": "Python 3",
   "language": "python",
   "name": "python3"
  },
  "language_info": {
   "codemirror_mode": {
    "name": "ipython",
    "version": 3
   },
   "file_extension": ".py",
   "mimetype": "text/x-python",
   "name": "python",
   "nbconvert_exporter": "python",
   "pygments_lexer": "ipython3",
   "version": "3.6.3"
  }
 },
 "nbformat": 4,
 "nbformat_minor": 2
}
